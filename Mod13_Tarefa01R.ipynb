{
 "cells": [
  {
   "cell_type": "markdown",
   "metadata": {},
   "source": [
    "# EBAC - Regressão II - regressão múltipla\n",
    "\n",
    "## Tarefa I"
   ]
  },
  {
   "cell_type": "markdown",
   "metadata": {},
   "source": [
    "#### Previsão de renda\n",
    "\n",
    "Vamos trabalhar com a base 'previsao_de_renda.csv', que é a base do seu próximo projeto. Vamos usar os recursos que vimos até aqui nesta base.\n",
    "\n",
    "|variavel|descrição|\n",
    "|-|-|\n",
    "|data_ref                | Data de referência de coleta das variáveis |\n",
    "|index                   | Código de identificação do cliente|\n",
    "|sexo                    | Sexo do cliente|\n",
    "|posse_de_veiculo        | Indica se o cliente possui veículo|\n",
    "|posse_de_imovel         | Indica se o cliente possui imóvel|\n",
    "|qtd_filhos              | Quantidade de filhos do cliente|\n",
    "|tipo_renda              | Tipo de renda do cliente|\n",
    "|educacao                | Grau de instrução do cliente|\n",
    "|estado_civil            | Estado civil do cliente|\n",
    "|tipo_residencia         | Tipo de residência do cliente (própria, alugada etc)|\n",
    "|idade                   | Idade do cliente|\n",
    "|tempo_emprego           | Tempo no emprego atual|\n",
    "|qt_pessoas_residencia   | Quantidade de pessoas que moram na residência|\n",
    "|renda                   | Renda em reais|"
   ]
  },
  {
   "cell_type": "code",
   "execution_count": 7,
   "metadata": {},
   "outputs": [],
   "source": [
    "import pandas as pd\n",
    "import numpy as np\n",
    "import patsy\n",
    "import statsmodels.formula.api as smf\n",
    "import statsmodels.api as sm"
   ]
  },
  {
   "cell_type": "code",
   "execution_count": 2,
   "metadata": {},
   "outputs": [],
   "source": [
    "df = pd.read_csv('previsao_de_renda.csv')"
   ]
  },
  {
   "cell_type": "code",
   "execution_count": 3,
   "metadata": {},
   "outputs": [
    {
     "name": "stdout",
     "output_type": "stream",
     "text": [
      "<class 'pandas.core.frame.DataFrame'>\n",
      "RangeIndex: 15000 entries, 0 to 14999\n",
      "Data columns (total 16 columns):\n",
      " #   Column                 Non-Null Count  Dtype  \n",
      "---  ------                 --------------  -----  \n",
      " 0   Unnamed: 0             15000 non-null  int64  \n",
      " 1   data_ref               15000 non-null  object \n",
      " 2   index                  15000 non-null  int64  \n",
      " 3   sexo                   15000 non-null  object \n",
      " 4   posse_de_veiculo       15000 non-null  bool   \n",
      " 5   posse_de_imovel        15000 non-null  bool   \n",
      " 6   qtd_filhos             15000 non-null  int64  \n",
      " 7   tipo_renda             15000 non-null  object \n",
      " 8   educacao               15000 non-null  object \n",
      " 9   estado_civil           15000 non-null  object \n",
      " 10  tipo_residencia        15000 non-null  object \n",
      " 11  idade                  15000 non-null  int64  \n",
      " 12  tempo_emprego          12466 non-null  float64\n",
      " 13  qt_pessoas_residencia  15000 non-null  float64\n",
      " 14  mau                    15000 non-null  bool   \n",
      " 15  renda                  15000 non-null  float64\n",
      "dtypes: bool(3), float64(3), int64(4), object(6)\n",
      "memory usage: 1.5+ MB\n"
     ]
    }
   ],
   "source": [
    "df.info()"
   ]
  },
  {
   "cell_type": "markdown",
   "metadata": {},
   "source": [
    "1. Ajuste um modelo para prever log(renda) considerando todas as covariáveis disponíveis.\n",
    "    - Utilizando os recursos do Patsy, coloque as variáveis qualitativas como *dummies*.\n",
    "    - Mantenha sempre a categoria mais frequente como casela de referência\n",
    "    - Avalie os parâmetros e veja se parecem fazer sentido prático.  \n",
    "\n",
    "\n",
    "2. Remova a variável menos significante e analise:\n",
    "    - Observe os indicadores que vimos, e avalie se o modelo melhorou ou piorou na sua opinião.\n",
    "    - Observe os parâmetros e veja se algum se alterou muito.  \n",
    "\n",
    "\n",
    "3. Siga removendo as variáveis menos significantes, sempre que o *p-value* for menor que 5%. Compare o modelo final com o inicial. Observe os indicadores e conclua se o modelo parece melhor. \n",
    "    "
   ]
  },
  {
   "cell_type": "code",
   "execution_count": 158,
   "metadata": {},
   "outputs": [
    {
     "data": {
      "text/plain": [
       "DesignMatrix with shape (12466, 11)\n",
       "  Columns:\n",
       "    ['Intercept',\n",
       "     'C(sexo)[T.M]',\n",
       "     'C(educacao, Treatment(2))[T.Primário]',\n",
       "     'C(educacao, Treatment(2))[T.Pós graduação]',\n",
       "     'C(educacao, Treatment(2))[T.Superior completo]',\n",
       "     'C(educacao, Treatment(2))[T.Superior incompleto]',\n",
       "     'C(tipo_renda)[T.Bolsista]',\n",
       "     'C(tipo_renda)[T.Empresário]',\n",
       "     'C(tipo_renda)[T.Pensionista]',\n",
       "     'C(tipo_renda)[T.Servidor público]',\n",
       "     'tempo_emprego']\n",
       "  Terms:\n",
       "    'Intercept' (column 0)\n",
       "    'C(sexo)' (column 1)\n",
       "    'C(educacao, Treatment(2))' (columns 2:6)\n",
       "    'C(tipo_renda)' (columns 6:10)\n",
       "    'tempo_emprego' (column 10)\n",
       "  (to view full data, use np.asarray(this_obj))"
      ]
     },
     "execution_count": 158,
     "metadata": {},
     "output_type": "execute_result"
    }
   ],
   "source": [
    "#secundario. como casela\n",
    "y, X = patsy.dmatrices('np.log(renda) ~ (tempo_emprego) + C(sexo) + C(educacao, Treatment(2)) + C(tipo_renda)', df)\n",
    "X"
   ]
  },
  {
   "cell_type": "code",
   "execution_count": 159,
   "metadata": {},
   "outputs": [
    {
     "data": {
      "text/plain": [
       "Secundário             8927\n",
       "Superior completo      5262\n",
       "Superior incompleto     599\n",
       "Primário                193\n",
       "Pós graduação            19\n",
       "Name: educacao, dtype: int64"
      ]
     },
     "execution_count": 159,
     "metadata": {},
     "output_type": "execute_result"
    }
   ],
   "source": [
    "df['educacao'].value_counts().head()"
   ]
  },
  {
   "cell_type": "code",
   "execution_count": 160,
   "metadata": {},
   "outputs": [
    {
     "data": {
      "text/html": [
       "<table class=\"simpletable\">\n",
       "<caption>OLS Regression Results</caption>\n",
       "<tr>\n",
       "  <th>Dep. Variable:</th>      <td>np.log(renda)</td>  <th>  R-squared:         </th> <td>   0.234</td> \n",
       "</tr>\n",
       "<tr>\n",
       "  <th>Model:</th>                   <td>OLS</td>       <th>  Adj. R-squared:    </th> <td>   0.233</td> \n",
       "</tr>\n",
       "<tr>\n",
       "  <th>Method:</th>             <td>Least Squares</td>  <th>  F-statistic:       </th> <td>   380.6</td> \n",
       "</tr>\n",
       "<tr>\n",
       "  <th>Date:</th>             <td>Tue, 27 Jun 2023</td> <th>  Prob (F-statistic):</th>  <td>  0.00</td>  \n",
       "</tr>\n",
       "<tr>\n",
       "  <th>Time:</th>                 <td>19:20:13</td>     <th>  Log-Likelihood:    </th> <td> -13267.</td> \n",
       "</tr>\n",
       "<tr>\n",
       "  <th>No. Observations:</th>      <td> 12466</td>      <th>  AIC:               </th> <td>2.656e+04</td>\n",
       "</tr>\n",
       "<tr>\n",
       "  <th>Df Residuals:</th>          <td> 12455</td>      <th>  BIC:               </th> <td>2.664e+04</td>\n",
       "</tr>\n",
       "<tr>\n",
       "  <th>Df Model:</th>              <td>    10</td>      <th>                     </th>     <td> </td>    \n",
       "</tr>\n",
       "<tr>\n",
       "  <th>Covariance Type:</th>      <td>nonrobust</td>    <th>                     </th>     <td> </td>    \n",
       "</tr>\n",
       "</table>\n",
       "<table class=\"simpletable\">\n",
       "<tr>\n",
       "                          <td></td>                            <th>coef</th>     <th>std err</th>      <th>t</th>      <th>P>|t|</th>  <th>[0.025</th>    <th>0.975]</th>  \n",
       "</tr>\n",
       "<tr>\n",
       "  <th>Intercept</th>                                        <td>    7.5071</td> <td>    0.013</td> <td>  558.880</td> <td> 0.000</td> <td>    7.481</td> <td>    7.533</td>\n",
       "</tr>\n",
       "<tr>\n",
       "  <th>C(sexo)[T.M]</th>                                     <td>    0.4734</td> <td>    0.013</td> <td>   35.662</td> <td> 0.000</td> <td>    0.447</td> <td>    0.499</td>\n",
       "</tr>\n",
       "<tr>\n",
       "  <th>C(educacao, Treatment(2))[T.Primário]</th>            <td>   -0.0403</td> <td>    0.071</td> <td>   -0.567</td> <td> 0.571</td> <td>   -0.180</td> <td>    0.099</td>\n",
       "</tr>\n",
       "<tr>\n",
       "  <th>C(educacao, Treatment(2))[T.Pós graduação]</th>       <td>    0.5757</td> <td>    0.161</td> <td>    3.569</td> <td> 0.000</td> <td>    0.260</td> <td>    0.892</td>\n",
       "</tr>\n",
       "<tr>\n",
       "  <th>C(educacao, Treatment(2))[T.Superior completo]</th>   <td>    0.0897</td> <td>    0.013</td> <td>    6.726</td> <td> 0.000</td> <td>    0.064</td> <td>    0.116</td>\n",
       "</tr>\n",
       "<tr>\n",
       "  <th>C(educacao, Treatment(2))[T.Superior incompleto]</th> <td>   -0.0684</td> <td>    0.031</td> <td>   -2.236</td> <td> 0.025</td> <td>   -0.128</td> <td>   -0.008</td>\n",
       "</tr>\n",
       "<tr>\n",
       "  <th>C(tipo_renda)[T.Bolsista]</th>                        <td>    0.0300</td> <td>    0.351</td> <td>    0.086</td> <td> 0.932</td> <td>   -0.658</td> <td>    0.718</td>\n",
       "</tr>\n",
       "<tr>\n",
       "  <th>C(tipo_renda)[T.Empresário]</th>                      <td>    0.1780</td> <td>    0.015</td> <td>   12.156</td> <td> 0.000</td> <td>    0.149</td> <td>    0.207</td>\n",
       "</tr>\n",
       "<tr>\n",
       "  <th>C(tipo_renda)[T.Pensionista]</th>                     <td>    0.3824</td> <td>    0.234</td> <td>    1.634</td> <td> 0.102</td> <td>   -0.076</td> <td>    0.841</td>\n",
       "</tr>\n",
       "<tr>\n",
       "  <th>C(tipo_renda)[T.Servidor público]</th>                <td>    0.0897</td> <td>    0.021</td> <td>    4.230</td> <td> 0.000</td> <td>    0.048</td> <td>    0.131</td>\n",
       "</tr>\n",
       "<tr>\n",
       "  <th>tempo_emprego</th>                                    <td>    0.0504</td> <td>    0.001</td> <td>   53.044</td> <td> 0.000</td> <td>    0.049</td> <td>    0.052</td>\n",
       "</tr>\n",
       "</table>\n",
       "<table class=\"simpletable\">\n",
       "<tr>\n",
       "  <th>Omnibus:</th>       <td> 1.103</td> <th>  Durbin-Watson:     </th> <td>   2.015</td>\n",
       "</tr>\n",
       "<tr>\n",
       "  <th>Prob(Omnibus):</th> <td> 0.576</td> <th>  Jarque-Bera (JB):  </th> <td>   1.070</td>\n",
       "</tr>\n",
       "<tr>\n",
       "  <th>Skew:</th>          <td>-0.017</td> <th>  Prob(JB):          </th> <td>   0.586</td>\n",
       "</tr>\n",
       "<tr>\n",
       "  <th>Kurtosis:</th>      <td> 3.029</td> <th>  Cond. No.          </th> <td>    577.</td>\n",
       "</tr>\n",
       "</table><br/><br/>Notes:<br/>[1] Standard Errors assume that the covariance matrix of the errors is correctly specified."
      ],
      "text/plain": [
       "<class 'statsmodels.iolib.summary.Summary'>\n",
       "\"\"\"\n",
       "                            OLS Regression Results                            \n",
       "==============================================================================\n",
       "Dep. Variable:          np.log(renda)   R-squared:                       0.234\n",
       "Model:                            OLS   Adj. R-squared:                  0.233\n",
       "Method:                 Least Squares   F-statistic:                     380.6\n",
       "Date:                Tue, 27 Jun 2023   Prob (F-statistic):               0.00\n",
       "Time:                        19:20:13   Log-Likelihood:                -13267.\n",
       "No. Observations:               12466   AIC:                         2.656e+04\n",
       "Df Residuals:                   12455   BIC:                         2.664e+04\n",
       "Df Model:                          10                                         \n",
       "Covariance Type:            nonrobust                                         \n",
       "====================================================================================================================\n",
       "                                                       coef    std err          t      P>|t|      [0.025      0.975]\n",
       "--------------------------------------------------------------------------------------------------------------------\n",
       "Intercept                                            7.5071      0.013    558.880      0.000       7.481       7.533\n",
       "C(sexo)[T.M]                                         0.4734      0.013     35.662      0.000       0.447       0.499\n",
       "C(educacao, Treatment(2))[T.Primário]               -0.0403      0.071     -0.567      0.571      -0.180       0.099\n",
       "C(educacao, Treatment(2))[T.Pós graduação]           0.5757      0.161      3.569      0.000       0.260       0.892\n",
       "C(educacao, Treatment(2))[T.Superior completo]       0.0897      0.013      6.726      0.000       0.064       0.116\n",
       "C(educacao, Treatment(2))[T.Superior incompleto]    -0.0684      0.031     -2.236      0.025      -0.128      -0.008\n",
       "C(tipo_renda)[T.Bolsista]                            0.0300      0.351      0.086      0.932      -0.658       0.718\n",
       "C(tipo_renda)[T.Empresário]                          0.1780      0.015     12.156      0.000       0.149       0.207\n",
       "C(tipo_renda)[T.Pensionista]                         0.3824      0.234      1.634      0.102      -0.076       0.841\n",
       "C(tipo_renda)[T.Servidor público]                    0.0897      0.021      4.230      0.000       0.048       0.131\n",
       "tempo_emprego                                        0.0504      0.001     53.044      0.000       0.049       0.052\n",
       "==============================================================================\n",
       "Omnibus:                        1.103   Durbin-Watson:                   2.015\n",
       "Prob(Omnibus):                  0.576   Jarque-Bera (JB):                1.070\n",
       "Skew:                          -0.017   Prob(JB):                        0.586\n",
       "Kurtosis:                       3.029   Cond. No.                         577.\n",
       "==============================================================================\n",
       "\n",
       "Notes:\n",
       "[1] Standard Errors assume that the covariance matrix of the errors is correctly specified.\n",
       "\"\"\""
      ]
     },
     "execution_count": 160,
     "metadata": {},
     "output_type": "execute_result"
    }
   ],
   "source": [
    "modelo = sm.OLS(y, X).fit()\n",
    "modelo.summary()"
   ]
  },
  {
   "cell_type": "code",
   "execution_count": 153,
   "metadata": {},
   "outputs": [
    {
     "data": {
      "text/plain": [
       "DesignMatrix with shape (12466, 7)\n",
       "  Columns:\n",
       "    ['Intercept',\n",
       "     'C(sexo)[T.M]',\n",
       "     'C(educacao, Treatment(2))[T.Primário]',\n",
       "     'C(educacao, Treatment(2))[T.Pós graduação]',\n",
       "     'C(educacao, Treatment(2))[T.Superior completo]',\n",
       "     'C(educacao, Treatment(2))[T.Superior incompleto]',\n",
       "     'tempo_emprego']\n",
       "  Terms:\n",
       "    'Intercept' (column 0)\n",
       "    'C(sexo)' (column 1)\n",
       "    'C(educacao, Treatment(2))' (columns 2:6)\n",
       "    'tempo_emprego' (column 6)\n",
       "  (to view full data, use np.asarray(this_obj))"
      ]
     },
     "execution_count": 153,
     "metadata": {},
     "output_type": "execute_result"
    }
   ],
   "source": [
    "#removendo variável menos significativa\n",
    "#secundario. como casela\n",
    "y2, X2 = patsy.dmatrices('np.log(renda) ~ (tempo_emprego) + C(sexo) + C(educacao, Treatment(2))', df)\n",
    "X2"
   ]
  },
  {
   "cell_type": "code",
   "execution_count": 154,
   "metadata": {},
   "outputs": [
    {
     "data": {
      "text/html": [
       "<table class=\"simpletable\">\n",
       "<caption>OLS Regression Results</caption>\n",
       "<tr>\n",
       "  <th>Dep. Variable:</th>      <td>np.log(renda)</td>  <th>  R-squared:         </th> <td>   0.225</td> \n",
       "</tr>\n",
       "<tr>\n",
       "  <th>Model:</th>                   <td>OLS</td>       <th>  Adj. R-squared:    </th> <td>   0.224</td> \n",
       "</tr>\n",
       "<tr>\n",
       "  <th>Method:</th>             <td>Least Squares</td>  <th>  F-statistic:       </th> <td>   601.7</td> \n",
       "</tr>\n",
       "<tr>\n",
       "  <th>Date:</th>             <td>Tue, 27 Jun 2023</td> <th>  Prob (F-statistic):</th>  <td>  0.00</td>  \n",
       "</tr>\n",
       "<tr>\n",
       "  <th>Time:</th>                 <td>19:19:44</td>     <th>  Log-Likelihood:    </th> <td> -13343.</td> \n",
       "</tr>\n",
       "<tr>\n",
       "  <th>No. Observations:</th>      <td> 12466</td>      <th>  AIC:               </th> <td>2.670e+04</td>\n",
       "</tr>\n",
       "<tr>\n",
       "  <th>Df Residuals:</th>          <td> 12459</td>      <th>  BIC:               </th> <td>2.675e+04</td>\n",
       "</tr>\n",
       "<tr>\n",
       "  <th>Df Model:</th>              <td>     6</td>      <th>                     </th>     <td> </td>    \n",
       "</tr>\n",
       "<tr>\n",
       "  <th>Covariance Type:</th>      <td>nonrobust</td>    <th>                     </th>     <td> </td>    \n",
       "</tr>\n",
       "</table>\n",
       "<table class=\"simpletable\">\n",
       "<tr>\n",
       "                          <td></td>                            <th>coef</th>     <th>std err</th>      <th>t</th>      <th>P>|t|</th>  <th>[0.025</th>    <th>0.975]</th>  \n",
       "</tr>\n",
       "<tr>\n",
       "  <th>Intercept</th>                                        <td>    7.5651</td> <td>    0.013</td> <td>  598.017</td> <td> 0.000</td> <td>    7.540</td> <td>    7.590</td>\n",
       "</tr>\n",
       "<tr>\n",
       "  <th>C(sexo)[T.M]</th>                                     <td>    0.4672</td> <td>    0.013</td> <td>   35.038</td> <td> 0.000</td> <td>    0.441</td> <td>    0.493</td>\n",
       "</tr>\n",
       "<tr>\n",
       "  <th>C(educacao, Treatment(2))[T.Primário]</th>            <td>   -0.0542</td> <td>    0.072</td> <td>   -0.758</td> <td> 0.448</td> <td>   -0.194</td> <td>    0.086</td>\n",
       "</tr>\n",
       "<tr>\n",
       "  <th>C(educacao, Treatment(2))[T.Pós graduação]</th>       <td>    0.6156</td> <td>    0.162</td> <td>    3.795</td> <td> 0.000</td> <td>    0.298</td> <td>    0.934</td>\n",
       "</tr>\n",
       "<tr>\n",
       "  <th>C(educacao, Treatment(2))[T.Superior completo]</th>   <td>    0.1047</td> <td>    0.013</td> <td>    7.856</td> <td> 0.000</td> <td>    0.079</td> <td>    0.131</td>\n",
       "</tr>\n",
       "<tr>\n",
       "  <th>C(educacao, Treatment(2))[T.Superior incompleto]</th> <td>   -0.0574</td> <td>    0.031</td> <td>   -1.866</td> <td> 0.062</td> <td>   -0.118</td> <td>    0.003</td>\n",
       "</tr>\n",
       "<tr>\n",
       "  <th>tempo_emprego</th>                                    <td>    0.0498</td> <td>    0.001</td> <td>   52.723</td> <td> 0.000</td> <td>    0.048</td> <td>    0.052</td>\n",
       "</tr>\n",
       "</table>\n",
       "<table class=\"simpletable\">\n",
       "<tr>\n",
       "  <th>Omnibus:</th>       <td> 0.677</td> <th>  Durbin-Watson:     </th> <td>   2.013</td>\n",
       "</tr>\n",
       "<tr>\n",
       "  <th>Prob(Omnibus):</th> <td> 0.713</td> <th>  Jarque-Bera (JB):  </th> <td>   0.645</td>\n",
       "</tr>\n",
       "<tr>\n",
       "  <th>Skew:</th>          <td>-0.004</td> <th>  Prob(JB):          </th> <td>   0.724</td>\n",
       "</tr>\n",
       "<tr>\n",
       "  <th>Kurtosis:</th>      <td> 3.034</td> <th>  Cond. No.          </th> <td>    265.</td>\n",
       "</tr>\n",
       "</table><br/><br/>Notes:<br/>[1] Standard Errors assume that the covariance matrix of the errors is correctly specified."
      ],
      "text/plain": [
       "<class 'statsmodels.iolib.summary.Summary'>\n",
       "\"\"\"\n",
       "                            OLS Regression Results                            \n",
       "==============================================================================\n",
       "Dep. Variable:          np.log(renda)   R-squared:                       0.225\n",
       "Model:                            OLS   Adj. R-squared:                  0.224\n",
       "Method:                 Least Squares   F-statistic:                     601.7\n",
       "Date:                Tue, 27 Jun 2023   Prob (F-statistic):               0.00\n",
       "Time:                        19:19:44   Log-Likelihood:                -13343.\n",
       "No. Observations:               12466   AIC:                         2.670e+04\n",
       "Df Residuals:                   12459   BIC:                         2.675e+04\n",
       "Df Model:                           6                                         \n",
       "Covariance Type:            nonrobust                                         \n",
       "====================================================================================================================\n",
       "                                                       coef    std err          t      P>|t|      [0.025      0.975]\n",
       "--------------------------------------------------------------------------------------------------------------------\n",
       "Intercept                                            7.5651      0.013    598.017      0.000       7.540       7.590\n",
       "C(sexo)[T.M]                                         0.4672      0.013     35.038      0.000       0.441       0.493\n",
       "C(educacao, Treatment(2))[T.Primário]               -0.0542      0.072     -0.758      0.448      -0.194       0.086\n",
       "C(educacao, Treatment(2))[T.Pós graduação]           0.6156      0.162      3.795      0.000       0.298       0.934\n",
       "C(educacao, Treatment(2))[T.Superior completo]       0.1047      0.013      7.856      0.000       0.079       0.131\n",
       "C(educacao, Treatment(2))[T.Superior incompleto]    -0.0574      0.031     -1.866      0.062      -0.118       0.003\n",
       "tempo_emprego                                        0.0498      0.001     52.723      0.000       0.048       0.052\n",
       "==============================================================================\n",
       "Omnibus:                        0.677   Durbin-Watson:                   2.013\n",
       "Prob(Omnibus):                  0.713   Jarque-Bera (JB):                0.645\n",
       "Skew:                          -0.004   Prob(JB):                        0.724\n",
       "Kurtosis:                       3.034   Cond. No.                         265.\n",
       "==============================================================================\n",
       "\n",
       "Notes:\n",
       "[1] Standard Errors assume that the covariance matrix of the errors is correctly specified.\n",
       "\"\"\""
      ]
     },
     "execution_count": 154,
     "metadata": {},
     "output_type": "execute_result"
    }
   ],
   "source": [
    "modelo2 = sm.OLS(y2, X2).fit()\n",
    "modelo2.summary()"
   ]
  },
  {
   "cell_type": "code",
   "execution_count": null,
   "metadata": {},
   "outputs": [],
   "source": [
    "# Modelo piorou no R\n",
    "\n",
    "# P-value : T.primário abaixou e o Superior incompleto aumentou\n"
   ]
  },
  {
   "cell_type": "code",
   "execution_count": 148,
   "metadata": {},
   "outputs": [
    {
     "data": {
      "text/plain": [
       "array(['Secundário', 'Superior completo', 'Superior incompleto',\n",
       "       'Primário', 'Pós graduação'], dtype=object)"
      ]
     },
     "execution_count": 148,
     "metadata": {},
     "output_type": "execute_result"
    }
   ],
   "source": [
    "#criando um novo df sem as variáveis menos significantes \n",
    "\n",
    "_df = df\n",
    "_df['educacao'].unique()"
   ]
  },
  {
   "cell_type": "code",
   "execution_count": 149,
   "metadata": {},
   "outputs": [],
   "source": [
    "_df = _df[_df['educacao'].isin(['Secundário', 'Superior completo', 'Pós graduação'])].copy()"
   ]
  },
  {
   "cell_type": "code",
   "execution_count": 155,
   "metadata": {},
   "outputs": [
    {
     "data": {
      "text/plain": [
       "DesignMatrix with shape (11798, 5)\n",
       "  Columns:\n",
       "    ['Intercept',\n",
       "     'C(sexo)[T.M]',\n",
       "     'C(educacao, Treatment(1))[T.Pós graduação]',\n",
       "     'C(educacao, Treatment(1))[T.Superior completo]',\n",
       "     'tempo_emprego']\n",
       "  Terms:\n",
       "    'Intercept' (column 0)\n",
       "    'C(sexo)' (column 1)\n",
       "    'C(educacao, Treatment(1))' (columns 2:4)\n",
       "    'tempo_emprego' (column 4)\n",
       "  (to view full data, use np.asarray(this_obj))"
      ]
     },
     "execution_count": 155,
     "metadata": {},
     "output_type": "execute_result"
    }
   ],
   "source": [
    "y3, X3 = patsy.dmatrices('np.log(renda) ~ (tempo_emprego) + C(sexo) + C(educacao, Treatment(1))', _df)\n",
    "X3"
   ]
  },
  {
   "cell_type": "code",
   "execution_count": 157,
   "metadata": {},
   "outputs": [
    {
     "data": {
      "text/html": [
       "<table class=\"simpletable\">\n",
       "<caption>OLS Regression Results</caption>\n",
       "<tr>\n",
       "  <th>Dep. Variable:</th>      <td>np.log(renda)</td>  <th>  R-squared:         </th> <td>   0.225</td> \n",
       "</tr>\n",
       "<tr>\n",
       "  <th>Model:</th>                   <td>OLS</td>       <th>  Adj. R-squared:    </th> <td>   0.225</td> \n",
       "</tr>\n",
       "<tr>\n",
       "  <th>Method:</th>             <td>Least Squares</td>  <th>  F-statistic:       </th> <td>   855.1</td> \n",
       "</tr>\n",
       "<tr>\n",
       "  <th>Date:</th>             <td>Tue, 27 Jun 2023</td> <th>  Prob (F-statistic):</th>  <td>  0.00</td>  \n",
       "</tr>\n",
       "<tr>\n",
       "  <th>Time:</th>                 <td>19:19:56</td>     <th>  Log-Likelihood:    </th> <td> -12625.</td> \n",
       "</tr>\n",
       "<tr>\n",
       "  <th>No. Observations:</th>      <td> 11798</td>      <th>  AIC:               </th> <td>2.526e+04</td>\n",
       "</tr>\n",
       "<tr>\n",
       "  <th>Df Residuals:</th>          <td> 11793</td>      <th>  BIC:               </th> <td>2.530e+04</td>\n",
       "</tr>\n",
       "<tr>\n",
       "  <th>Df Model:</th>              <td>     4</td>      <th>                     </th>     <td> </td>    \n",
       "</tr>\n",
       "<tr>\n",
       "  <th>Covariance Type:</th>      <td>nonrobust</td>    <th>                     </th>     <td> </td>    \n",
       "</tr>\n",
       "</table>\n",
       "<table class=\"simpletable\">\n",
       "<tr>\n",
       "                         <td></td>                           <th>coef</th>     <th>std err</th>      <th>t</th>      <th>P>|t|</th>  <th>[0.025</th>    <th>0.975]</th>  \n",
       "</tr>\n",
       "<tr>\n",
       "  <th>Intercept</th>                                      <td>    7.5653</td> <td>    0.013</td> <td>  590.030</td> <td> 0.000</td> <td>    7.540</td> <td>    7.590</td>\n",
       "</tr>\n",
       "<tr>\n",
       "  <th>C(sexo)[T.M]</th>                                   <td>    0.4667</td> <td>    0.014</td> <td>   34.028</td> <td> 0.000</td> <td>    0.440</td> <td>    0.494</td>\n",
       "</tr>\n",
       "<tr>\n",
       "  <th>C(educacao, Treatment(1))[T.Pós graduação]</th>     <td>    0.6155</td> <td>    0.162</td> <td>    3.796</td> <td> 0.000</td> <td>    0.298</td> <td>    0.933</td>\n",
       "</tr>\n",
       "<tr>\n",
       "  <th>C(educacao, Treatment(1))[T.Superior completo]</th> <td>    0.1047</td> <td>    0.013</td> <td>    7.857</td> <td> 0.000</td> <td>    0.079</td> <td>    0.131</td>\n",
       "</tr>\n",
       "<tr>\n",
       "  <th>tempo_emprego</th>                                  <td>    0.0498</td> <td>    0.001</td> <td>   51.589</td> <td> 0.000</td> <td>    0.048</td> <td>    0.052</td>\n",
       "</tr>\n",
       "</table>\n",
       "<table class=\"simpletable\">\n",
       "<tr>\n",
       "  <th>Omnibus:</th>       <td> 0.408</td> <th>  Durbin-Watson:     </th> <td>   2.028</td>\n",
       "</tr>\n",
       "<tr>\n",
       "  <th>Prob(Omnibus):</th> <td> 0.815</td> <th>  Jarque-Bera (JB):  </th> <td>   0.378</td>\n",
       "</tr>\n",
       "<tr>\n",
       "  <th>Skew:</th>          <td>-0.007</td> <th>  Prob(JB):          </th> <td>   0.828</td>\n",
       "</tr>\n",
       "<tr>\n",
       "  <th>Kurtosis:</th>      <td> 3.024</td> <th>  Cond. No.          </th> <td>    260.</td>\n",
       "</tr>\n",
       "</table><br/><br/>Notes:<br/>[1] Standard Errors assume that the covariance matrix of the errors is correctly specified."
      ],
      "text/plain": [
       "<class 'statsmodels.iolib.summary.Summary'>\n",
       "\"\"\"\n",
       "                            OLS Regression Results                            \n",
       "==============================================================================\n",
       "Dep. Variable:          np.log(renda)   R-squared:                       0.225\n",
       "Model:                            OLS   Adj. R-squared:                  0.225\n",
       "Method:                 Least Squares   F-statistic:                     855.1\n",
       "Date:                Tue, 27 Jun 2023   Prob (F-statistic):               0.00\n",
       "Time:                        19:19:56   Log-Likelihood:                -12625.\n",
       "No. Observations:               11798   AIC:                         2.526e+04\n",
       "Df Residuals:                   11793   BIC:                         2.530e+04\n",
       "Df Model:                           4                                         \n",
       "Covariance Type:            nonrobust                                         \n",
       "==================================================================================================================\n",
       "                                                     coef    std err          t      P>|t|      [0.025      0.975]\n",
       "------------------------------------------------------------------------------------------------------------------\n",
       "Intercept                                          7.5653      0.013    590.030      0.000       7.540       7.590\n",
       "C(sexo)[T.M]                                       0.4667      0.014     34.028      0.000       0.440       0.494\n",
       "C(educacao, Treatment(1))[T.Pós graduação]         0.6155      0.162      3.796      0.000       0.298       0.933\n",
       "C(educacao, Treatment(1))[T.Superior completo]     0.1047      0.013      7.857      0.000       0.079       0.131\n",
       "tempo_emprego                                      0.0498      0.001     51.589      0.000       0.048       0.052\n",
       "==============================================================================\n",
       "Omnibus:                        0.408   Durbin-Watson:                   2.028\n",
       "Prob(Omnibus):                  0.815   Jarque-Bera (JB):                0.378\n",
       "Skew:                          -0.007   Prob(JB):                        0.828\n",
       "Kurtosis:                       3.024   Cond. No.                         260.\n",
       "==============================================================================\n",
       "\n",
       "Notes:\n",
       "[1] Standard Errors assume that the covariance matrix of the errors is correctly specified.\n",
       "\"\"\""
      ]
     },
     "execution_count": 157,
     "metadata": {},
     "output_type": "execute_result"
    }
   ],
   "source": [
    "#modelo 3 \n",
    "modelo3 = sm.OLS(y3, X3).fit()\n",
    "modelo3.summary()"
   ]
  },
  {
   "cell_type": "code",
   "execution_count": 161,
   "metadata": {},
   "outputs": [],
   "source": [
    "#o primeiro modelo foi melhor com o R maior"
   ]
  },
  {
   "cell_type": "code",
   "execution_count": null,
   "metadata": {},
   "outputs": [],
   "source": []
  }
 ],
 "metadata": {
  "kernelspec": {
   "display_name": "Python 3 (ipykernel)",
   "language": "python",
   "name": "python3"
  },
  "language_info": {
   "codemirror_mode": {
    "name": "ipython",
    "version": 3
   },
   "file_extension": ".py",
   "mimetype": "text/x-python",
   "name": "python",
   "nbconvert_exporter": "python",
   "pygments_lexer": "ipython3",
   "version": "3.10.9"
  }
 },
 "nbformat": 4,
 "nbformat_minor": 4
}
